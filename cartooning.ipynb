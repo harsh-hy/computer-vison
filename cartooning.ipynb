{
  "nbformat": 4,
  "nbformat_minor": 0,
  "metadata": {
    "colab": {
      "private_outputs": true,
      "provenance": [],
      "authorship_tag": "ABX9TyO/t1IAdpwIr1IiHTzHSvN/",
      "include_colab_link": true
    },
    "kernelspec": {
      "name": "python3",
      "display_name": "Python 3"
    },
    "language_info": {
      "name": "python"
    }
  },
  "cells": [
    {
      "cell_type": "markdown",
      "metadata": {
        "id": "view-in-github",
        "colab_type": "text"
      },
      "source": [
        "<a href=\"https://colab.research.google.com/github/harsh-hy/computer-vison/blob/main/cartooning.ipynb\" target=\"_parent\"><img src=\"https://colab.research.google.com/assets/colab-badge.svg\" alt=\"Open In Colab\"/></a>"
      ]
    },
    {
      "cell_type": "code",
      "execution_count": null,
      "metadata": {
        "id": "XrtwtFYUFIZf"
      },
      "outputs": [],
      "source": [
        "import cv2\n",
        "import numpy as np\n",
        "import matplotlib.pyplot as plt\n",
        "from google.colab import files\n",
        "from PIL import Image\n",
        "import io\n"
      ]
    },
    {
      "cell_type": "code",
      "source": [
        "img = cv2.imread('3.jpg')"
      ],
      "metadata": {
        "id": "HylEoZkAIboM"
      },
      "execution_count": null,
      "outputs": []
    },
    {
      "cell_type": "code",
      "source": [
        "img = cv2.resize(img, (500, 500))\n",
        "img_rgb = cv2.cvtColor(img, cv2.COLOR_BGR2RGB)\n"
      ],
      "metadata": {
        "id": "TUTZg9-vIvlG"
      },
      "execution_count": null,
      "outputs": []
    },
    {
      "cell_type": "code",
      "source": [
        "#Applying bilateral filter i.e smoothning\n",
        "smooth = cv2.bilateralFilter(img, d=9, sigmaColor=75, sigmaSpace=75)\n"
      ],
      "metadata": {
        "id": "Ovf-cDPpIyUw"
      },
      "execution_count": null,
      "outputs": []
    },
    {
      "cell_type": "code",
      "source": [
        "#Converting it to grayscale nd applying median blur\n",
        "gray = cv2.cvtColor(img, cv2.COLOR_BGR2GRAY)\n",
        "blurred = cv2.medianBlur(gray, 5)"
      ],
      "metadata": {
        "id": "BjCIFjE5I5lE"
      },
      "execution_count": null,
      "outputs": []
    },
    {
      "cell_type": "code",
      "source": [
        "# doing edge detection\n",
        "edges = cv2.adaptiveThreshold(blurred, 255,\n",
        "                              cv2.ADAPTIVE_THRESH_MEAN_C,\n",
        "                              cv2.THRESH_BINARY,\n",
        "                              blockSize=9,\n",
        "                              C=2)\n"
      ],
      "metadata": {
        "id": "Y5fzbRInI7eI"
      },
      "execution_count": null,
      "outputs": []
    },
    {
      "cell_type": "code",
      "source": [
        "# Converting edges to color\n",
        "edges_colored = cv2.cvtColor(edges, cv2.COLOR_GRAY2BGR)"
      ],
      "metadata": {
        "id": "ab93l75pJJMU"
      },
      "execution_count": null,
      "outputs": []
    },
    {
      "cell_type": "code",
      "source": [
        "# Combining edges with smoothened image\n",
        "cartoon = cv2.bitwise_and(smooth, edges_colored)\n"
      ],
      "metadata": {
        "id": "bLSVJB2yJMgO"
      },
      "execution_count": null,
      "outputs": []
    },
    {
      "cell_type": "code",
      "source": [
        "# original and cartoon image\n",
        "plt.figure(figsize=(10,5))\n",
        "plt.subplot(1,2,1)\n",
        "plt.imshow(img_rgb)\n",
        "plt.title('Original Image')\n",
        "plt.axis('off')\n"
      ],
      "metadata": {
        "id": "AgY1p0QEJQQ6"
      },
      "execution_count": null,
      "outputs": []
    },
    {
      "cell_type": "code",
      "source": [
        "plt.subplot(1,2,2)\n",
        "plt.imshow(cv2.cvtColor(cartoon, cv2.COLOR_BGR2RGB))\n",
        "plt.title('Cartoonified Image')\n",
        "plt.axis('off')\n",
        "\n",
        "plt.show()\n"
      ],
      "metadata": {
        "id": "q8VmYEZpJTbY"
      },
      "execution_count": null,
      "outputs": []
    },
    {
      "cell_type": "code",
      "source": [],
      "metadata": {
        "id": "RMr017JhJXOw"
      },
      "execution_count": null,
      "outputs": []
    }
  ]
}