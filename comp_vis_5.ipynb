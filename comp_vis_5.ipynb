{
  "nbformat": 4,
  "nbformat_minor": 0,
  "metadata": {
    "colab": {
      "private_outputs": true,
      "provenance": [],
      "authorship_tag": "ABX9TyPFYCzRvJHX1vjG7kN5dSMh",
      "include_colab_link": true
    },
    "kernelspec": {
      "name": "python3",
      "display_name": "Python 3"
    },
    "language_info": {
      "name": "python"
    }
  },
  "cells": [
    {
      "cell_type": "markdown",
      "metadata": {
        "id": "view-in-github",
        "colab_type": "text"
      },
      "source": [
        "<a href=\"https://colab.research.google.com/github/harsh-hy/computer-vison/blob/main/comp_vis_5.ipynb\" target=\"_parent\"><img src=\"https://colab.research.google.com/assets/colab-badge.svg\" alt=\"Open In Colab\"/></a>"
      ]
    },
    {
      "cell_type": "code",
      "execution_count": null,
      "metadata": {
        "id": "3nsnU5Abpt5g"
      },
      "outputs": [],
      "source": [
        "import cv2\n",
        "import numpy as np\n",
        "import matplotlib.pyplot as plt\n",
        "from pylab import gray, imshow, show"
      ]
    },
    {
      "cell_type": "code",
      "source": [
        "imgl01=cv2.imread('left01.jpg' ,cv2.IMREAD_GRAYSCALE)\n",
        "imgr01=cv2.imread('right01.jpg',cv2.IMREAD_GRAYSCALE)\n",
        "imgl02=cv2.imread('left02.jpg' ,cv2.IMREAD_GRAYSCALE)\n",
        "imgr02=cv2.imread('right02.jpg',cv2.IMREAD_GRAYSCALE)"
      ],
      "metadata": {
        "id": "TDDj1_V7p3DN"
      },
      "execution_count": null,
      "outputs": []
    },
    {
      "cell_type": "code",
      "source": [
        "imshow(imgl01)\n",
        "show()\n"
      ],
      "metadata": {
        "id": "M3ogPd_Hq2kJ"
      },
      "execution_count": null,
      "outputs": []
    },
    {
      "cell_type": "code",
      "source": [
        "imshow(imgl02)\n",
        "show()"
      ],
      "metadata": {
        "id": "Cg-etHnMrz4X"
      },
      "execution_count": null,
      "outputs": []
    },
    {
      "cell_type": "code",
      "source": [
        "\n",
        "imshow(imgr01)\n",
        "show()"
      ],
      "metadata": {
        "id": "B1ENohZ1r3eG"
      },
      "execution_count": null,
      "outputs": []
    },
    {
      "cell_type": "code",
      "source": [
        "\n",
        "imshow(imgr02)\n",
        "show()"
      ],
      "metadata": {
        "id": "5JQi7Ob1r5zY"
      },
      "execution_count": null,
      "outputs": []
    },
    {
      "cell_type": "code",
      "source": [
        "stero=cv2.StereoBM_create(numDisparities=64, blockSize=15)\n",
        "disparity=stero.compute(imgl01,imgr01)\n",
        "disparity_norm=cv2.normalize(src=disparity,dst=disparity,beta=0,alpha=255,norm_type=cv2.NORM_MINMAX)\n",
        "disparity_norm=np.uint8(disparity_norm)\n",
        "plt.figure(figsize=(10,10))\n",
        "plt.imshow(disparity_norm,cmap='plasma')\n",
        "plt.colorbar(label=\"Disparity\")\n",
        "plt.title(\"Disparity Map\")\n",
        "plt.show()"
      ],
      "metadata": {
        "id": "ap8erOKoqO2D"
      },
      "execution_count": null,
      "outputs": []
    },
    {
      "cell_type": "code",
      "source": [
        "orb=cv2.ORB_create(nfeatures=1000)\n",
        "kp1,des1=orb.detectAndCompute(imgl01,None)\n",
        "kp2,des2=orb.detectAndCompute(imgr01,None)"
      ],
      "metadata": {
        "id": "-JWtKY5vqZ45"
      },
      "execution_count": null,
      "outputs": []
    },
    {
      "cell_type": "code",
      "source": [
        "bf=cv2.BFMatcher(cv2.NORM_HAMMING,crossCheck=True)\n",
        "matches=bf.match(des1,des2)\n",
        "matches=sorted(matches,key=lambda x:x.distance)"
      ],
      "metadata": {
        "id": "4REM6XTqxbP9"
      },
      "execution_count": null,
      "outputs": []
    },
    {
      "cell_type": "code",
      "source": [
        "pts1=np.float32([kp1[m.queryIdx].pt for m in matches]).reshape(-1,1,2)\n",
        "pts2=np.float32([kp2[m.trainIdx].pt for m in matches]).reshape(-1,1,2)"
      ],
      "metadata": {
        "id": "8H5-v0taxir4"
      },
      "execution_count": null,
      "outputs": []
    },
    {
      "cell_type": "code",
      "source": [
        "f, mask=cv2.findFundamentalMat(pts1,pts2,cv2.FM_RANSAC)"
      ],
      "metadata": {
        "id": "UGvgNSpTxmv8"
      },
      "execution_count": null,
      "outputs": []
    },
    {
      "cell_type": "code",
      "source": [
        "pts1=pts1[mask.ravel()==1]\n",
        "pts2=pts2[mask.ravel()==1]"
      ],
      "metadata": {
        "id": "H4oMK5ST1Qm-"
      },
      "execution_count": null,
      "outputs": []
    },
    {
      "cell_type": "code",
      "source": [
        "print(\"Computed Fundamental Matrix\")\n",
        "print(f)"
      ],
      "metadata": {
        "id": "S9_uEmJO1jiI"
      },
      "execution_count": null,
      "outputs": []
    },
    {
      "cell_type": "code",
      "source": [
        "def draw_epipolar_lines(imgl01,imgr01,f,pts1,pts2):\n",
        "    lines1=cv2.computeCorrespondEpilines(pts2.reshape(-1,1,2),2,f)\n",
        "    lines1=lines1.reshape(-1,3)\n",
        "\n",
        "    img1_color=cv2.cvtColor(imgl01,cv2.COLOR_GRAY2BGR)\n",
        "    img2_color=cv2.cvtColor(imgr01,cv2.COLOR_GRAY2BGR)\n",
        "\n",
        "    for r,pt1,pt2 in zip(lines1,pts1,pts2):\n",
        "      color=tuple(np.random.randint(0,255,3).tolist())\n",
        "      x0,y0=map(int, [0,-r[2]/r[1]])\n",
        "      x1,y1=map(int, [imgl01.shape[1],-(r[2]+r[0]*imgl01.shape[1])/r[1]])\n",
        "      img1_color=cv2.line(img1_color,(x0,y0),(x1,y1),color,1)\n",
        "      img1_color = cv2.circle(img1_color, tuple(pt1[0].astype(int)), 5, color, -1)\n",
        "    plt.figure(figsize=(10,10))\n",
        "    plt.subplot(121),plt.imshow(img1_color)\n",
        "    plt.subplot(122),plt.imshow(img2_color)\n",
        "    plt.show()\n",
        "draw_epipolar_lines(imgl01,imgr01,f,pts1,pts2)\n"
      ],
      "metadata": {
        "id": "uP4CONlJ4tHs"
      },
      "execution_count": null,
      "outputs": []
    },
    {
      "cell_type": "code",
      "source": [],
      "metadata": {
        "id": "MCMwwLgN5-Xs"
      },
      "execution_count": null,
      "outputs": []
    }
  ]
}