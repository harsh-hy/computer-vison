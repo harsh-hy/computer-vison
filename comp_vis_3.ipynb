{
  "nbformat": 4,
  "nbformat_minor": 0,
  "metadata": {
    "colab": {
      "private_outputs": true,
      "provenance": [],
      "authorship_tag": "ABX9TyMR0mJVXW4im9mNBpYdtVTh",
      "include_colab_link": true
    },
    "kernelspec": {
      "name": "python3",
      "display_name": "Python 3"
    },
    "language_info": {
      "name": "python"
    }
  },
  "cells": [
    {
      "cell_type": "markdown",
      "metadata": {
        "id": "view-in-github",
        "colab_type": "text"
      },
      "source": [
        "<a href=\"https://colab.research.google.com/github/harsh-hy/computer-vison/blob/main/comp_vis_3.ipynb\" target=\"_parent\"><img src=\"https://colab.research.google.com/assets/colab-badge.svg\" alt=\"Open In Colab\"/></a>"
      ]
    },
    {
      "cell_type": "code",
      "execution_count": null,
      "metadata": {
        "id": "injI9kMnCU2P"
      },
      "outputs": [],
      "source": [
        "!pip install mahotas"
      ]
    },
    {
      "cell_type": "code",
      "source": [
        "import mahotas\n",
        "import numpy as np\n",
        "from pylab import gray, imshow, show\n",
        "import os\n",
        "import matplotlib.pyplot as plt\n",
        "from pylab import gray, imshow, show"
      ],
      "metadata": {
        "id": "J_NTEfHACYXD"
      },
      "execution_count": null,
      "outputs": []
    },
    {
      "cell_type": "code",
      "source": [
        "img=mahotas.imread('/content/1.jpg')"
      ],
      "metadata": {
        "id": "anPlx8V6CaMQ"
      },
      "execution_count": null,
      "outputs": []
    },
    {
      "cell_type": "code",
      "source": [
        "img=img[:,:,0]"
      ],
      "metadata": {
        "id": "F-LZRESjCiq8"
      },
      "execution_count": null,
      "outputs": []
    },
    {
      "cell_type": "code",
      "source": [
        "#otsu method\n",
        "T_otsu=mahotas.thresholding.otsu(img)"
      ],
      "metadata": {
        "id": "8K85m1AwCl_e"
      },
      "execution_count": null,
      "outputs": []
    },
    {
      "cell_type": "code",
      "source": [
        "#image val;ue should be greater then otsu\n",
        "img=img>T_otsu"
      ],
      "metadata": {
        "id": "N-2g6QaQC0kP"
      },
      "execution_count": null,
      "outputs": []
    },
    {
      "cell_type": "code",
      "source": [
        "imshow(img)\n",
        "show()"
      ],
      "metadata": {
        "id": "I9MYJ8mvC9HC"
      },
      "execution_count": null,
      "outputs": []
    },
    {
      "cell_type": "code",
      "source": [
        "new_img=mahotas.croptobbox(img)\n",
        "imshow(new_img)\n",
        "show()"
      ],
      "metadata": {
        "id": "dAdDBOJFDeTB"
      },
      "execution_count": null,
      "outputs": []
    },
    {
      "cell_type": "code",
      "source": [],
      "metadata": {
        "id": "zb0wRZAID1y6"
      },
      "execution_count": null,
      "outputs": []
    }
  ]
}