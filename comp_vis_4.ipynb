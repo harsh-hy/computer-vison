{
  "nbformat": 4,
  "nbformat_minor": 0,
  "metadata": {
    "colab": {
      "private_outputs": true,
      "provenance": [],
      "authorship_tag": "ABX9TyM9KV8bwop5ugUl0ZeMnoU2",
      "include_colab_link": true
    },
    "kernelspec": {
      "name": "python3",
      "display_name": "Python 3"
    },
    "language_info": {
      "name": "python"
    }
  },
  "cells": [
    {
      "cell_type": "markdown",
      "metadata": {
        "id": "view-in-github",
        "colab_type": "text"
      },
      "source": [
        "<a href=\"https://colab.research.google.com/github/harsh-hy/computer-vison/blob/main/comp_vis_4.ipynb\" target=\"_parent\"><img src=\"https://colab.research.google.com/assets/colab-badge.svg\" alt=\"Open In Colab\"/></a>"
      ]
    },
    {
      "cell_type": "code",
      "execution_count": null,
      "metadata": {
        "id": "OMMJEelXJzR3"
      },
      "outputs": [],
      "source": [
        "!pip install mahotas"
      ]
    },
    {
      "cell_type": "code",
      "source": [
        "import numpy as np\n",
        "import os\n",
        "import matplotlib.pyplot as plt\n",
        "from pylab import gray, imshow, show\n",
        "from skimage.io import imread\n",
        "from skimage.color import rgb2gray"
      ],
      "metadata": {
        "id": "WtYyzn-OJ3q-"
      },
      "execution_count": null,
      "outputs": []
    },
    {
      "cell_type": "code",
      "source": [
        "orig_img=imread('/content/1.jpg')\n",
        "grayscale=rgb2gray(orig_img)\n",
        "grayscale=(grayscale*255).astype(np.uint8)\n"
      ],
      "metadata": {
        "id": "0rcp7i9KKHiF"
      },
      "execution_count": null,
      "outputs": []
    },
    {
      "cell_type": "code",
      "source": [
        "c=255/np.log(1+np.max(grayscale))\n",
        "t_grayscale=c*np.log(1+grayscale)\n",
        "t_grayscale=t_grayscale.astype(np.uint8)"
      ],
      "metadata": {
        "id": "Lr1IBpe3KnPW"
      },
      "execution_count": null,
      "outputs": []
    },
    {
      "cell_type": "code",
      "source": [],
      "metadata": {
        "id": "fduy8uvRLFkr"
      },
      "execution_count": null,
      "outputs": []
    }
  ]
}