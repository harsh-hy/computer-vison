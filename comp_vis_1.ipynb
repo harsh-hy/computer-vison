{
  "nbformat": 4,
  "nbformat_minor": 0,
  "metadata": {
    "colab": {
      "private_outputs": true,
      "provenance": [],
      "authorship_tag": "ABX9TyOwX8su2u0Ip7GBlbfal5kU",
      "include_colab_link": true
    },
    "kernelspec": {
      "name": "python3",
      "display_name": "Python 3"
    },
    "language_info": {
      "name": "python"
    }
  },
  "cells": [
    {
      "cell_type": "markdown",
      "metadata": {
        "id": "view-in-github",
        "colab_type": "text"
      },
      "source": [
        "<a href=\"https://colab.research.google.com/github/harsh-hy/computer-vison/blob/main/comp_vis_1.ipynb\" target=\"_parent\"><img src=\"https://colab.research.google.com/assets/colab-badge.svg\" alt=\"Open In Colab\"/></a>"
      ]
    },
    {
      "cell_type": "code",
      "execution_count": null,
      "metadata": {
        "id": "JsMACJ1QLi66"
      },
      "outputs": [],
      "source": [
        "!pip install mahotas"
      ]
    },
    {
      "cell_type": "markdown",
      "source": [],
      "metadata": {
        "id": "XR1nbtKUNnSP"
      }
    },
    {
      "cell_type": "code",
      "source": [
        "import mahotas\n",
        "import numpy as np\n",
        "from pylab import gray, imshow, show\n",
        "import os\n",
        "import matplotlib.pyplot as plt\n"
      ],
      "metadata": {
        "id": "0qsuk9scNlX2"
      },
      "execution_count": null,
      "outputs": []
    },
    {
      "cell_type": "code",
      "source": [
        "# load the image\n",
        "img=mahotas.imread('/content/1.jpg')"
      ],
      "metadata": {
        "id": "CJatxT9qOE6G"
      },
      "execution_count": null,
      "outputs": []
    },
    {
      "cell_type": "code",
      "source": [
        "#filter the image\n",
        "img=img[:,:,0]"
      ],
      "metadata": {
        "id": "T9FJT8uNOGS8"
      },
      "execution_count": null,
      "outputs": []
    },
    {
      "cell_type": "code",
      "source": [
        "#show the images\n",
        "print('image')\n",
        "imshow(img)\n",
        "show()"
      ],
      "metadata": {
        "id": "STVpZ-UlOUJx"
      },
      "execution_count": null,
      "outputs": []
    },
    {
      "cell_type": "code",
      "source": [],
      "metadata": {
        "id": "E0ZsKyI-PJI5"
      },
      "execution_count": null,
      "outputs": []
    }
  ]
}