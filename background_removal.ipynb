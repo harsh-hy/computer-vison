{
  "nbformat": 4,
  "nbformat_minor": 0,
  "metadata": {
    "colab": {
      "private_outputs": true,
      "provenance": [],
      "authorship_tag": "ABX9TyMeixMf9ZutJ3qahpcQTJxw",
      "include_colab_link": true
    },
    "kernelspec": {
      "name": "python3",
      "display_name": "Python 3"
    },
    "language_info": {
      "name": "python"
    }
  },
  "cells": [
    {
      "cell_type": "markdown",
      "metadata": {
        "id": "view-in-github",
        "colab_type": "text"
      },
      "source": [
        "<a href=\"https://colab.research.google.com/github/harsh-hy/computer-vison/blob/main/background_removal.ipynb\" target=\"_parent\"><img src=\"https://colab.research.google.com/assets/colab-badge.svg\" alt=\"Open In Colab\"/></a>"
      ]
    },
    {
      "cell_type": "code",
      "execution_count": null,
      "metadata": {
        "id": "CgJchI24KumJ"
      },
      "outputs": [],
      "source": [
        "import cv2\n",
        "import numpy as np\n",
        "import matplotlib.pyplot as plt\n",
        "from google.colab import files\n",
        "from PIL import Image"
      ]
    },
    {
      "cell_type": "code",
      "source": [
        "img = cv2.imread('3.jpg')\n",
        "img = cv2.resize(img, (500, 500))  # Resizing for consistency\n",
        "original = img.copy()"
      ],
      "metadata": {
        "id": "bPwAr27cKxzK"
      },
      "execution_count": null,
      "outputs": []
    },
    {
      "cell_type": "code",
      "source": [
        "#Creating initial mask and models\n",
        "mask = np.zeros(img.shape[:2], np.uint8)\n",
        "bgdModel = np.zeros((1, 65), np.float64)\n",
        "fgdModel = np.zeros((1, 65), np.float64)"
      ],
      "metadata": {
        "id": "B_hyw5V1K6r8"
      },
      "execution_count": null,
      "outputs": []
    },
    {
      "cell_type": "code",
      "source": [
        "# Defining the rectangle around the object (x, y, width, height)\n",
        "rect = (50, 50, 400, 400)"
      ],
      "metadata": {
        "id": "avk-3wVDLBgj"
      },
      "execution_count": null,
      "outputs": []
    },
    {
      "cell_type": "code",
      "source": [
        "# Applying GrabCut\n",
        "cv2.grabCut(img, mask, rect, bgdModel, fgdModel, 5, cv2.GC_INIT_WITH_RECT)"
      ],
      "metadata": {
        "id": "lKnlhAtoLJhZ"
      },
      "execution_count": null,
      "outputs": []
    },
    {
      "cell_type": "code",
      "source": [
        "# Modifying mask (0/2 = background, 1/3 = foreground)\n",
        "mask2 = np.where((mask == 2) | (mask == 0), 0, 1).astype('uint8')\n",
        "result = img * mask2[:, :, np.newaxis]"
      ],
      "metadata": {
        "id": "dAej2BL_LQnU"
      },
      "execution_count": null,
      "outputs": []
    },
    {
      "cell_type": "code",
      "source": [
        "# Converting black background to white\n",
        "white_bg = original.copy()\n",
        "white_bg[np.where(mask2 == 0)] = [255, 255, 255]"
      ],
      "metadata": {
        "id": "gnEFp-zNLVl5"
      },
      "execution_count": null,
      "outputs": []
    },
    {
      "cell_type": "code",
      "source": [
        "plt.figure(figsize=(10,5))\n",
        "plt.subplot(1,2,1)\n",
        "plt.imshow(cv2.cvtColor(original, cv2.COLOR_BGR2RGB))\n",
        "plt.title(\"Original Image\")\n",
        "plt.axis('off')\n",
        "plt.show()"
      ],
      "metadata": {
        "id": "T7p1BIEyLanG"
      },
      "execution_count": null,
      "outputs": []
    },
    {
      "cell_type": "code",
      "source": [
        "plt.subplot(1,2,2)\n",
        "plt.imshow(cv2.cvtColor(white_bg, cv2.COLOR_BGR2RGB))\n",
        "plt.title(\"Background Removed\")\n",
        "plt.axis('off')\n",
        "plt.show()\n"
      ],
      "metadata": {
        "id": "BJW0pswSLdu6"
      },
      "execution_count": null,
      "outputs": []
    },
    {
      "cell_type": "code",
      "source": [],
      "metadata": {
        "id": "BUEHWqCVLir_"
      },
      "execution_count": null,
      "outputs": []
    }
  ]
}