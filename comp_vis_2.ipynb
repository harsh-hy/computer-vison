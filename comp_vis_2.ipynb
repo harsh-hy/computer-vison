{
  "nbformat": 4,
  "nbformat_minor": 0,
  "metadata": {
    "colab": {
      "private_outputs": true,
      "provenance": [],
      "authorship_tag": "ABX9TyMVSd/jvCP1KC1yPsK4l97V",
      "include_colab_link": true
    },
    "kernelspec": {
      "name": "python3",
      "display_name": "Python 3"
    },
    "language_info": {
      "name": "python"
    }
  },
  "cells": [
    {
      "cell_type": "markdown",
      "metadata": {
        "id": "view-in-github",
        "colab_type": "text"
      },
      "source": [
        "<a href=\"https://colab.research.google.com/github/harsh-hy/computer-vison/blob/main/comp_vis_2.ipynb\" target=\"_parent\"><img src=\"https://colab.research.google.com/assets/colab-badge.svg\" alt=\"Open In Colab\"/></a>"
      ]
    },
    {
      "cell_type": "code",
      "execution_count": null,
      "metadata": {
        "id": "YtJeNZyhu2Bm"
      },
      "outputs": [],
      "source": [
        "!pip install mahotas"
      ]
    },
    {
      "cell_type": "code",
      "source": [
        "import mahotas\n",
        "import numpy as np\n",
        "from pylab import gray, imshow, show\n",
        "import os\n",
        "import matplotlib.pyplot as plt\n",
        "from pylab import gray, imshow, show"
      ],
      "metadata": {
        "id": "ZJ-PPBgsu7Zh"
      },
      "execution_count": null,
      "outputs": []
    },
    {
      "cell_type": "code",
      "source": [
        "# load the image\n",
        "img=mahotas.imread('/content/1.jpg')"
      ],
      "metadata": {
        "id": "NwvbqLj_vAUk"
      },
      "execution_count": null,
      "outputs": []
    },
    {
      "cell_type": "code",
      "source": [
        "#filter the image\n",
        "img=img[:,:,0]"
      ],
      "metadata": {
        "id": "d8phT1gPvFW2"
      },
      "execution_count": null,
      "outputs": []
    },
    {
      "cell_type": "code",
      "source": [
        "#show the images\n",
        "print('image')\n",
        "imshow(img)\n",
        "show()"
      ],
      "metadata": {
        "id": "sFujQFicvXNz"
      },
      "execution_count": null,
      "outputs": []
    },
    {
      "cell_type": "code",
      "source": [
        "#apply the regional minima & maxima fnc\n",
        "new_min_img=mahotas.regmin(img)\n",
        "new_max_img=mahotas.regmax(img)"
      ],
      "metadata": {
        "id": "OCPMOv_Gvrdv"
      },
      "execution_count": null,
      "outputs": []
    },
    {
      "cell_type": "code",
      "source": [
        "#print min immg\n",
        "print('new_min_img')\n",
        "imshow(new_min_img)\n",
        "show()"
      ],
      "metadata": {
        "id": "Y7ugHyYkv736"
      },
      "execution_count": null,
      "outputs": []
    },
    {
      "cell_type": "code",
      "source": [
        "#print max img\n",
        "print('new_max_img')\n",
        "imshow(new_max_img)\n",
        "show()"
      ],
      "metadata": {
        "id": "7x-o2ITowJ_v"
      },
      "execution_count": null,
      "outputs": []
    },
    {
      "cell_type": "code",
      "source": [
        "#local max and min\n",
        "local_max=mahotas.locmax(img)\n",
        "local_min=mahotas.locmin(img)"
      ],
      "metadata": {
        "id": "ocLMZmkKwTaX"
      },
      "execution_count": null,
      "outputs": []
    },
    {
      "cell_type": "code",
      "source": [
        "#print loc min\n",
        "print('local_min')\n",
        "imshow(local_min)\n",
        "show()"
      ],
      "metadata": {
        "id": "b67X2HZpxDfX"
      },
      "execution_count": null,
      "outputs": []
    },
    {
      "cell_type": "code",
      "source": [
        "#print loc max\n",
        "print('local_max')\n",
        "imshow(local_max)\n",
        "show()"
      ],
      "metadata": {
        "id": "bFwnL7VKxJ1s"
      },
      "execution_count": null,
      "outputs": []
    },
    {
      "cell_type": "code",
      "source": [
        "#stretch the image\n",
        "stretch_img=mahotas.stretch(img)"
      ],
      "metadata": {
        "id": "PtevriFHxOL2"
      },
      "execution_count": null,
      "outputs": []
    },
    {
      "cell_type": "code",
      "source": [
        "#print the stretched image\n",
        "print('stretch_img')\n",
        "imshow(stretch_img)\n",
        "show()"
      ],
      "metadata": {
        "id": "80RVjH-exocv"
      },
      "execution_count": null,
      "outputs": []
    },
    {
      "cell_type": "code",
      "source": [],
      "metadata": {
        "id": "SuVCembnxtCO"
      },
      "execution_count": null,
      "outputs": []
    }
  ]
}